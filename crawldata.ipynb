{
 "cells": [
  {
   "cell_type": "code",
   "execution_count": 6,
   "metadata": {},
   "outputs": [],
   "source": [
    "from google_images_download import google_images_download"
   ]
  },
  {
   "cell_type": "code",
   "execution_count": 12,
   "metadata": {},
   "outputs": [],
   "source": [
    "def downloadimages(query):\n",
    "\tresponse = google_images_download.googleimagesdownload() \n",
    "\t# keywords is the search query \n",
    "\t# format is the image file format \n",
    "\t# limit is the number of images to be downloaded \n",
    "\t# print urs is to print the image file url \n",
    "\t# size is the image size which can \n",
    "\t# be specified manually (\"large, medium, icon\") \n",
    "\t# aspect ratio denotes the height width ratio \n",
    "\t# of images to download. (\"tall, square, wide, panoramic\") \n",
    "\targuments = {\"keywords\": query, \n",
    "\t\t\t\t#\"format\": \"jpg\", \n",
    "\t\t\t\t\"limit\":100,\n",
    "\t\t\t\t\"print_urls\":True}\n",
    "\t\t\t\t#\"size\": \"large\"}\n",
    "\t\t\t\t#\"aspect_ratio\": \"panoramic\" }\n",
    "\ttry: \n",
    "\t\tresponse.download(arguments) \n",
    "\t\n",
    "\t# Handling File NotFound Error\t \n",
    "\texcept FileNotFoundError: \n",
    "\t\targuments = {\"keywords\": query, \n",
    "\t\t\t\t\t\"format\": \"jpg\", \n",
    "\t\t\t\t\t\"limit\":4, \n",
    "\t\t\t\t\t\"print_urls\":True, \n",
    "\t\t\t\t\t\"size\": \"medium\"} \n",
    "\t\t\t\t\t\n",
    "\t\t# Providing arguments for the searched query \n",
    "\t\ttry: \n",
    "\t\t\t# Downloading the photos based \n",
    "\t\t\t# on the given arguments \n",
    "\t\t\tresponse.download(arguments) \n",
    "\t\texcept: \n",
    "\t\t\tpass"
   ]
  },
  {
   "cell_type": "code",
   "execution_count": 13,
   "metadata": {},
   "outputs": [
    {
     "name": "stdout",
     "output_type": "stream",
     "text": [
      "\n",
      "Item no.: 1 --> Item name = do huyet ap\n",
      "Evaluating...\n",
      "Starting Download...\n",
      "\n",
      "\n",
      "Unfortunately all 100 could not be downloaded because some images were not downloadable. 0 is all we got for this search filter!\n",
      "\n",
      "Errors: 0\n",
      "\n"
     ]
    }
   ],
   "source": [
    "downloadimages('do huyet ap')"
   ]
  },
  {
   "cell_type": "code",
   "execution_count": null,
   "metadata": {},
   "outputs": [],
   "source": []
  }
 ],
 "metadata": {
  "kernelspec": {
   "display_name": "Python 3.7.0 ('py37')",
   "language": "python",
   "name": "python3"
  },
  "language_info": {
   "codemirror_mode": {
    "name": "ipython",
    "version": 3
   },
   "file_extension": ".py",
   "mimetype": "text/x-python",
   "name": "python",
   "nbconvert_exporter": "python",
   "pygments_lexer": "ipython3",
   "version": "3.7.0 (default, Oct  9 2018, 10:31:47) \n[GCC 7.3.0]"
  },
  "orig_nbformat": 4,
  "vscode": {
   "interpreter": {
    "hash": "c844a1953941c6e994ad36ecffaa47cd6e7c29c36adf75c89300a3339db050f1"
   }
  }
 },
 "nbformat": 4,
 "nbformat_minor": 2
}
